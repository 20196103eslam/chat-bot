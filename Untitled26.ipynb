{
  "nbformat": 4,
  "nbformat_minor": 0,
  "metadata": {
    "colab": {
      "provenance": []
    },
    "kernelspec": {
      "name": "python3",
      "display_name": "Python 3"
    },
    "language_info": {
      "name": "python"
    }
  },
  "cells": [
    {
      "cell_type": "code",
      "execution_count": null,
      "metadata": {
        "id": "Vohl604M3SV5"
      },
      "outputs": [],
      "source": []
    },
    {
      "cell_type": "code",
      "source": [
        "import random\n",
        "response ={\n",
        "    \"hi\" : [\"hey\",\"hi\"],\n",
        "    \"bye\" :[ \"thank you\"],\n",
        "    \"what is your name\" : [\" i am your market assistant\"],\n",
        "    \"when the market open and close\" : [\"it open at 10 am, close at 12 am \"],\n",
        "    \"there is any offar\" : [\" offars at 30 of every month\"],\n",
        "    \"what is the price of suger\" : [\"sugar = 45 EGP\"],\n",
        "    \"thanks\" : [\"شوفنا بحاجه بقا\"],\n",
        "}\n",
        "def get_response(user_input):\n",
        "  user_input=user_input.lower()\n",
        "  if user_input in response:\n",
        "    return random.choice(response[user_input])\n",
        "  else:\n",
        "    return\"sorry\"\n",
        "\n",
        "\n",
        "def main() :\n",
        "  print(\"اهلابيك يا حب\")\n",
        "  print(\"اسأل براحتك\")\n",
        "\n",
        "  while True :\n",
        "    user_input=input(\"you:\")\n",
        "    if user_input.lower()=='bye':\n",
        "      print(\"good bye\")\n",
        "      break\n",
        "    else:\n",
        "      response = get_response(user_input)\n",
        "      print(\"bot\", response)\n",
        "\n",
        "if __name__==\"__main__\":\n",
        "  main()\n",
        "\n",
        "\n",
        "\n"
      ],
      "metadata": {
        "colab": {
          "base_uri": "https://localhost:8080/"
        },
        "id": "JgT1yDdC5Ucp",
        "outputId": "ee4fcd23-2179-491f-9b53-ace5b95e3f72"
      },
      "execution_count": null,
      "outputs": [
        {
          "output_type": "stream",
          "name": "stdout",
          "text": [
            "اهلابيك يا حب\n",
            "اسأل براحتك\n",
            "you:HI\n",
            "bot hi\n"
          ]
        }
      ]
    },
    {
      "cell_type": "code",
      "source": [],
      "metadata": {
        "id": "RhjkT8Fw_n4r"
      },
      "execution_count": null,
      "outputs": []
    }
  ]
}